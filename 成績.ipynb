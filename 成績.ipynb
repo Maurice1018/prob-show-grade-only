{
 "cells": [
  {
   "cell_type": "code",
   "execution_count": 1,
   "metadata": {},
   "outputs": [],
   "source": [
    "%matplotlib inline\n",
    "import numpy as np\n",
    "import pandas as pd\n",
    "import matplotlib.pyplot as plt\n",
    "import seaborn as sns\n",
    "\n",
    "import os\n",
    "os.chdir('..')\n",
    "direct = os.getcwd()\n",
    "\n",
    "df = pd.read_excel(direct + '/prob20.xlsx' , 1)"
   ]
  },
  {
   "cell_type": "code",
   "execution_count": 2,
   "metadata": {},
   "outputs": [
    {
     "data": {
      "text/html": [
       "<div>\n",
       "<style scoped>\n",
       "    .dataframe tbody tr th:only-of-type {\n",
       "        vertical-align: middle;\n",
       "    }\n",
       "\n",
       "    .dataframe tbody tr th {\n",
       "        vertical-align: top;\n",
       "    }\n",
       "\n",
       "    .dataframe thead th {\n",
       "        text-align: right;\n",
       "    }\n",
       "</style>\n",
       "<table border=\"1\" class=\"dataframe\">\n",
       "  <thead>\n",
       "    <tr style=\"text-align: right;\">\n",
       "      <th></th>\n",
       "      <th>序號</th>\n",
       "      <th>系級</th>\n",
       "      <th>學號</th>\n",
       "      <th>姓名</th>\n",
       "      <th>小考一</th>\n",
       "    </tr>\n",
       "  </thead>\n",
       "  <tbody>\n",
       "    <tr>\n",
       "      <td>0</td>\n",
       "      <td>1</td>\n",
       "      <td>經四乙</td>\n",
       "      <td>106207312</td>\n",
       "      <td>呂文隆</td>\n",
       "      <td>100</td>\n",
       "    </tr>\n",
       "    <tr>\n",
       "      <td>1</td>\n",
       "      <td>2</td>\n",
       "      <td>會三甲</td>\n",
       "      <td>107303011</td>\n",
       "      <td>周韋伶</td>\n",
       "      <td>100</td>\n",
       "    </tr>\n",
       "    <tr>\n",
       "      <td>2</td>\n",
       "      <td>3</td>\n",
       "      <td>會四乙</td>\n",
       "      <td>106303100</td>\n",
       "      <td>林昱廷</td>\n",
       "      <td>45</td>\n",
       "    </tr>\n",
       "    <tr>\n",
       "      <td>3</td>\n",
       "      <td>4</td>\n",
       "      <td>資三甲</td>\n",
       "      <td>107306069</td>\n",
       "      <td>陳品璇</td>\n",
       "      <td>100</td>\n",
       "    </tr>\n",
       "    <tr>\n",
       "      <td>4</td>\n",
       "      <td>5</td>\n",
       "      <td>資四乙</td>\n",
       "      <td>106306088</td>\n",
       "      <td>劉婕</td>\n",
       "      <td>75</td>\n",
       "    </tr>\n",
       "    <tr>\n",
       "      <td>...</td>\n",
       "      <td>...</td>\n",
       "      <td>...</td>\n",
       "      <td>...</td>\n",
       "      <td>...</td>\n",
       "      <td>...</td>\n",
       "    </tr>\n",
       "    <tr>\n",
       "      <td>74</td>\n",
       "      <td>75</td>\n",
       "      <td>資科四</td>\n",
       "      <td>105703057</td>\n",
       "      <td>王靖文</td>\n",
       "      <td>50</td>\n",
       "    </tr>\n",
       "    <tr>\n",
       "      <td>75</td>\n",
       "      <td>76</td>\n",
       "      <td>資科四</td>\n",
       "      <td>106703023</td>\n",
       "      <td>蔡錦泉</td>\n",
       "      <td>x</td>\n",
       "    </tr>\n",
       "    <tr>\n",
       "      <td>76</td>\n",
       "      <td>77</td>\n",
       "      <td>外校生</td>\n",
       "      <td>S10910084</td>\n",
       "      <td>黃翊唐</td>\n",
       "      <td>0</td>\n",
       "    </tr>\n",
       "    <tr>\n",
       "      <td>77</td>\n",
       "      <td>NaN</td>\n",
       "      <td>NaN</td>\n",
       "      <td>108703049</td>\n",
       "      <td>陳立翊</td>\n",
       "      <td>x</td>\n",
       "    </tr>\n",
       "    <tr>\n",
       "      <td>78</td>\n",
       "      <td>NaN</td>\n",
       "      <td>NaN</td>\n",
       "      <td>107703023</td>\n",
       "      <td>郭信廷</td>\n",
       "      <td>x</td>\n",
       "    </tr>\n",
       "  </tbody>\n",
       "</table>\n",
       "<p>79 rows × 5 columns</p>\n",
       "</div>"
      ],
      "text/plain": [
       "     序號    系級          學號   姓名  小考一\n",
       "0    1   經四乙   106207312   呂文隆  100\n",
       "1    2   會三甲   107303011   周韋伶  100\n",
       "2    3   會四乙   106303100   林昱廷   45\n",
       "3    4   資三甲   107306069   陳品璇  100\n",
       "4    5   資四乙   106306088    劉婕   75\n",
       "..  ...   ...         ...  ...  ...\n",
       "74  75   資科四   105703057   王靖文   50\n",
       "75  76   資科四   106703023   蔡錦泉    x\n",
       "76  77   外校生   S10910084   黃翊唐    0\n",
       "77  NaN   NaN   108703049  陳立翊    x\n",
       "78  NaN   NaN   107703023  郭信廷    x\n",
       "\n",
       "[79 rows x 5 columns]"
      ]
     },
     "execution_count": 2,
     "metadata": {},
     "output_type": "execute_result"
    }
   ],
   "source": [
    "df"
   ]
  },
  {
   "cell_type": "code",
   "execution_count": 3,
   "metadata": {},
   "outputs": [],
   "source": [
    "grade = df.小考一\n",
    "nvalue = grade[grade == 'x'].index\n",
    "gvalue = grade.drop(nvalue).astype(float)"
   ]
  },
  {
   "cell_type": "code",
   "execution_count": 4,
   "metadata": {},
   "outputs": [
    {
     "data": {
      "text/plain": [
       "count     71.00\n",
       "mean      75.85\n",
       "std       25.90\n",
       "min        0.00\n",
       "25%       55.00\n",
       "50%       85.00\n",
       "75%      100.00\n",
       "max      100.00\n",
       "Name: 小考一, dtype: float64"
      ]
     },
     "execution_count": 4,
     "metadata": {},
     "output_type": "execute_result"
    }
   ],
   "source": [
    "gvalue.describe().round(2)"
   ]
  },
  {
   "cell_type": "code",
   "execution_count": 5,
   "metadata": {},
   "outputs": [
    {
     "data": {
      "text/plain": [
       "(array([ 3.,  0.,  0.,  2.,  7.,  9.,  1.,  6., 20., 23.]),\n",
       " array([  0.,  10.,  20.,  30.,  40.,  50.,  60.,  70.,  80.,  90., 100.]),\n",
       " <a list of 10 Patch objects>)"
      ]
     },
     "execution_count": 5,
     "metadata": {},
     "output_type": "execute_result"
    },
    {
     "data": {
      "image/png": "[encoded data removed]",
      "text/plain": [
       "<Figure size 432x288 with 1 Axes>"
      ]
     },
     "metadata": {},
     "output_type": "display_data"
    }
   ],
   "source": [
    "sns.set()\n",
    "plt.hist(gvalue.values , 10)"
   ]
  },
  {
   "cell_type": "code",
   "execution_count": 6,
   "metadata": {},
   "outputs": [
    {
     "name": "stdout",
     "output_type": "stream",
     "text": [
      "缺考： ['安熹薰' '劉佳為' '顏成翰' '簡敬堂' '張欽棠' '蔡錦泉' '陳立翊' '郭信廷']\n"
     ]
    }
   ],
   "source": [
    "print('缺考：' , df[grade == 'x'].姓名.values)"
   ]
  },
  {
   "cell_type": "code",
   "execution_count": null,
   "metadata": {},
   "outputs": [],
   "source": []
  }
 ],
 "metadata": {
  "kernelspec": {
   "display_name": "Python 3",
   "language": "python",
   "name": "python3"
  },
  "language_info": {
   "codemirror_mode": {
    "name": "ipython",
    "version": 3
   },
   "file_extension": ".py",
   "mimetype": "text/x-python",
   "name": "python",
   "nbconvert_exporter": "python",
   "pygments_lexer": "ipython3",
   "version": "3.7.4"
  }
 },
 "nbformat": 4,
 "nbformat_minor": 2
}
